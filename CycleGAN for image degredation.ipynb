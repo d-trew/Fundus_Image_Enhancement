{
 "cells": [
  {
   "cell_type": "code",
   "execution_count": null,
   "id": "2e82d50b-e6f1-4f99-9571-fdf436164125",
   "metadata": {
    "scrolled": true,
    "vscode": {
     "languageId": "shellscript"
    }
   },
   "outputs": [
    {
     "name": "stdout",
     "output_type": "stream",
     "text": [
      "Defaulting to user installation because normal site-packages is not writeable\n",
      "Requirement already satisfied: tensorflow in c:\\users\\sethh\\appdata\\roaming\\python\\python312\\site-packages (2.18.0)\n",
      "Requirement already satisfied: huggingface_hub in c:\\users\\sethh\\appdata\\roaming\\python\\python312\\site-packages (0.15.1)\n",
      "Requirement already satisfied: tensorflow-intel==2.18.0 in c:\\users\\sethh\\appdata\\roaming\\python\\python312\\site-packages (from tensorflow) (2.18.0)\n",
      "Requirement already satisfied: absl-py>=1.0.0 in c:\\users\\sethh\\appdata\\roaming\\python\\python312\\site-packages (from tensorflow-intel==2.18.0->tensorflow) (2.1.0)\n",
      "Requirement already satisfied: astunparse>=1.6.0 in c:\\users\\sethh\\appdata\\roaming\\python\\python312\\site-packages (from tensorflow-intel==2.18.0->tensorflow) (1.6.3)\n",
      "Requirement already satisfied: flatbuffers>=24.3.25 in c:\\users\\sethh\\appdata\\roaming\\python\\python312\\site-packages (from tensorflow-intel==2.18.0->tensorflow) (24.3.25)\n",
      "Requirement already satisfied: gast!=0.5.0,!=0.5.1,!=0.5.2,>=0.2.1 in c:\\users\\sethh\\appdata\\roaming\\python\\python312\\site-packages (from tensorflow-intel==2.18.0->tensorflow) (0.6.0)\n",
      "Requirement already satisfied: google-pasta>=0.1.1 in c:\\users\\sethh\\appdata\\roaming\\python\\python312\\site-packages (from tensorflow-intel==2.18.0->tensorflow) (0.2.0)\n",
      "Requirement already satisfied: libclang>=13.0.0 in c:\\users\\sethh\\appdata\\roaming\\python\\python312\\site-packages (from tensorflow-intel==2.18.0->tensorflow) (18.1.1)\n",
      "Requirement already satisfied: opt-einsum>=2.3.2 in c:\\users\\sethh\\appdata\\roaming\\python\\python312\\site-packages (from tensorflow-intel==2.18.0->tensorflow) (3.4.0)\n",
      "Requirement already satisfied: packaging in c:\\users\\sethh\\appdata\\roaming\\python\\python312\\site-packages (from tensorflow-intel==2.18.0->tensorflow) (24.1)\n",
      "Requirement already satisfied: protobuf!=4.21.0,!=4.21.1,!=4.21.2,!=4.21.3,!=4.21.4,!=4.21.5,<6.0.0dev,>=3.20.3 in c:\\users\\sethh\\appdata\\roaming\\python\\python312\\site-packages (from tensorflow-intel==2.18.0->tensorflow) (5.28.3)\n",
      "Requirement already satisfied: requests<3,>=2.21.0 in c:\\users\\sethh\\appdata\\roaming\\python\\python312\\site-packages (from tensorflow-intel==2.18.0->tensorflow) (2.32.3)\n",
      "Requirement already satisfied: setuptools in c:\\users\\sethh\\appdata\\roaming\\python\\python312\\site-packages (from tensorflow-intel==2.18.0->tensorflow) (75.3.0)\n",
      "Requirement already satisfied: six>=1.12.0 in c:\\users\\sethh\\appdata\\roaming\\python\\python312\\site-packages (from tensorflow-intel==2.18.0->tensorflow) (1.16.0)\n",
      "Requirement already satisfied: termcolor>=1.1.0 in c:\\users\\sethh\\appdata\\roaming\\python\\python312\\site-packages (from tensorflow-intel==2.18.0->tensorflow) (2.5.0)\n",
      "Requirement already satisfied: typing-extensions>=3.6.6 in c:\\users\\sethh\\appdata\\roaming\\python\\python312\\site-packages (from tensorflow-intel==2.18.0->tensorflow) (4.12.2)\n",
      "Requirement already satisfied: wrapt>=1.11.0 in c:\\users\\sethh\\appdata\\roaming\\python\\python312\\site-packages (from tensorflow-intel==2.18.0->tensorflow) (1.16.0)\n",
      "Requirement already satisfied: grpcio<2.0,>=1.24.3 in c:\\users\\sethh\\appdata\\roaming\\python\\python312\\site-packages (from tensorflow-intel==2.18.0->tensorflow) (1.67.1)\n",
      "Requirement already satisfied: tensorboard<2.19,>=2.18 in c:\\users\\sethh\\appdata\\roaming\\python\\python312\\site-packages (from tensorflow-intel==2.18.0->tensorflow) (2.18.0)\n",
      "Requirement already satisfied: keras>=3.5.0 in c:\\users\\sethh\\appdata\\roaming\\python\\python312\\site-packages (from tensorflow-intel==2.18.0->tensorflow) (3.6.0)\n",
      "Requirement already satisfied: numpy<2.1.0,>=1.26.0 in c:\\users\\sethh\\appdata\\roaming\\python\\python312\\site-packages (from tensorflow-intel==2.18.0->tensorflow) (1.26.4)\n",
      "Requirement already satisfied: h5py>=3.11.0 in c:\\users\\sethh\\appdata\\roaming\\python\\python312\\site-packages (from tensorflow-intel==2.18.0->tensorflow) (3.12.1)\n",
      "Requirement already satisfied: ml-dtypes<0.5.0,>=0.4.0 in c:\\users\\sethh\\appdata\\roaming\\python\\python312\\site-packages (from tensorflow-intel==2.18.0->tensorflow) (0.4.1)\n",
      "Requirement already satisfied: filelock in c:\\users\\sethh\\appdata\\roaming\\python\\python312\\site-packages (from huggingface_hub) (3.17.0)\n",
      "Requirement already satisfied: fsspec in c:\\users\\sethh\\appdata\\roaming\\python\\python312\\site-packages (from huggingface_hub) (2024.12.0)\n",
      "Requirement already satisfied: tqdm>=4.42.1 in c:\\users\\sethh\\appdata\\roaming\\python\\python312\\site-packages (from huggingface_hub) (4.67.0)\n",
      "Requirement already satisfied: pyyaml>=5.1 in c:\\users\\sethh\\appdata\\roaming\\python\\python312\\site-packages (from huggingface_hub) (6.0.2)\n",
      "Requirement already satisfied: charset-normalizer<4,>=2 in c:\\users\\sethh\\appdata\\roaming\\python\\python312\\site-packages (from requests<3,>=2.21.0->tensorflow-intel==2.18.0->tensorflow) (3.4.0)\n",
      "Requirement already satisfied: idna<4,>=2.5 in c:\\users\\sethh\\appdata\\roaming\\python\\python312\\site-packages (from requests<3,>=2.21.0->tensorflow-intel==2.18.0->tensorflow) (3.10)\n",
      "Requirement already satisfied: urllib3<3,>=1.21.1 in c:\\users\\sethh\\appdata\\roaming\\python\\python312\\site-packages (from requests<3,>=2.21.0->tensorflow-intel==2.18.0->tensorflow) (2.2.3)\n",
      "Requirement already satisfied: certifi>=2017.4.17 in c:\\users\\sethh\\appdata\\roaming\\python\\python312\\site-packages (from requests<3,>=2.21.0->tensorflow-intel==2.18.0->tensorflow) (2024.8.30)\n",
      "Requirement already satisfied: colorama in c:\\users\\sethh\\appdata\\roaming\\python\\python312\\site-packages (from tqdm>=4.42.1->huggingface_hub) (0.4.6)\n",
      "Requirement already satisfied: wheel<1.0,>=0.23.0 in c:\\users\\sethh\\appdata\\roaming\\python\\python312\\site-packages (from astunparse>=1.6.0->tensorflow-intel==2.18.0->tensorflow) (0.45.0)\n",
      "Requirement already satisfied: rich in c:\\users\\sethh\\appdata\\roaming\\python\\python312\\site-packages (from keras>=3.5.0->tensorflow-intel==2.18.0->tensorflow) (13.9.4)\n",
      "Requirement already satisfied: namex in c:\\users\\sethh\\appdata\\roaming\\python\\python312\\site-packages (from keras>=3.5.0->tensorflow-intel==2.18.0->tensorflow) (0.0.8)\n",
      "Requirement already satisfied: optree in c:\\users\\sethh\\appdata\\roaming\\python\\python312\\site-packages (from keras>=3.5.0->tensorflow-intel==2.18.0->tensorflow) (0.13.1)\n",
      "Requirement already satisfied: markdown>=2.6.8 in c:\\users\\sethh\\appdata\\roaming\\python\\python312\\site-packages (from tensorboard<2.19,>=2.18->tensorflow-intel==2.18.0->tensorflow) (3.7)\n",
      "Requirement already satisfied: tensorboard-data-server<0.8.0,>=0.7.0 in c:\\users\\sethh\\appdata\\roaming\\python\\python312\\site-packages (from tensorboard<2.19,>=2.18->tensorflow-intel==2.18.0->tensorflow) (0.7.2)\n",
      "Requirement already satisfied: werkzeug>=1.0.1 in c:\\users\\sethh\\appdata\\roaming\\python\\python312\\site-packages (from tensorboard<2.19,>=2.18->tensorflow-intel==2.18.0->tensorflow) (3.1.3)\n",
      "Requirement already satisfied: MarkupSafe>=2.1.1 in c:\\users\\sethh\\appdata\\roaming\\python\\python312\\site-packages (from werkzeug>=1.0.1->tensorboard<2.19,>=2.18->tensorflow-intel==2.18.0->tensorflow) (3.0.2)\n",
      "Requirement already satisfied: markdown-it-py>=2.2.0 in c:\\users\\sethh\\appdata\\roaming\\python\\python312\\site-packages (from rich->keras>=3.5.0->tensorflow-intel==2.18.0->tensorflow) (3.0.0)\n",
      "Requirement already satisfied: pygments<3.0.0,>=2.13.0 in c:\\users\\sethh\\appdata\\roaming\\python\\python312\\site-packages (from rich->keras>=3.5.0->tensorflow-intel==2.18.0->tensorflow) (2.18.0)\n",
      "Requirement already satisfied: mdurl~=0.1 in c:\\users\\sethh\\appdata\\roaming\\python\\python312\\site-packages (from markdown-it-py>=2.2.0->rich->keras>=3.5.0->tensorflow-intel==2.18.0->tensorflow) (0.1.2)\n"
     ]
    }
   ],
   "source": [
    "!pip install tensorflow huggingface_hub"
   ]
  },
  {
   "cell_type": "markdown",
   "id": "52d2cb5d-055e-4a3f-a89d-29602dcfab56",
   "metadata": {
    "jp-MarkdownHeadingCollapsed": true
   },
   "source": [
    "### Download original dataset"
   ]
  },
  {
   "cell_type": "code",
   "execution_count": null,
   "id": "80316574-1c77-4cb5-a6dc-8fcb5985c7ac",
   "metadata": {
    "vscode": {
     "languageId": "shellscript"
    }
   },
   "outputs": [],
   "source": [
    "import os\n",
    "import kagglehub\n",
    "\n",
    "current_dir = os.getcwd()\n",
    "os.environ['KAGGLEHUB_CACHE'] = current_dir\n",
    "\n",
    "path = kagglehub.dataset_download(\"sabari50312/fundus-pytorch\")\n",
    "\n",
    "print(\"Dataset downloaded to:\", path)"
   ]
  },
  {
   "cell_type": "markdown",
   "id": "c9ce19fc-641b-4743-8f91-83f3be2e46ac",
   "metadata": {
    "jp-MarkdownHeadingCollapsed": true
   },
   "source": [
    "### Download cycleGAN model"
   ]
  },
  {
   "cell_type": "code",
   "execution_count": null,
   "id": "a4d0d13d-3467-4226-a755-a0755dd4e586",
   "metadata": {
    "scrolled": true,
    "vscode": {
     "languageId": "shellscript"
    }
   },
   "outputs": [],
   "source": [
    "import os\n",
    "from huggingface_hub import from_pretrained_keras\n",
    "\n",
    "os.environ[\"HF_HOME\"] = os.getcwd()\n",
    "\n",
    "model = from_pretrained_keras(\"keras-io/CycleGAN\")\n",
    "model.save(os.path.join(os.getcwd(), \"CycleGAN_model\"))\n",
    "\n",
    "print(\"Model loaded and saved successfully!\")"
   ]
  },
  {
   "cell_type": "markdown",
   "id": "7eec7573-e729-4fb4-98f9-8649f998ded3",
   "metadata": {},
   "source": [
    "### Apply model onto dataset"
   ]
  },
  {
   "cell_type": "code",
   "execution_count": 1,
   "id": "76c68131-422f-430d-8cac-f84b34cb31f4",
   "metadata": {
    "scrolled": true,
    "vscode": {
     "languageId": "shellscript"
    }
   },
   "outputs": [],
   "source": [
    "import os\n",
    "import tensorflow as tf\n",
    "import numpy as np\n",
    "from PIL import Image\n",
    "from tqdm import tqdm\n",
    "\n",
    "# Load the CycleGAN model from the saved folder\n",
    "model_path = os.path.join(os.getcwd(), 'cycleGAN_model')\n",
    "model = tf.saved_model.load(model_path)\n",
    "\n",
    "# Function to preprocess the image\n",
    "def preprocess_image(img_path, target_size=(256, 256)):\n",
    "    img = Image.open(img_path).convert('RGB')\n",
    "    img = img.resize(target_size)\n",
    "    img = np.array(img) / 127.5 - 1  # Normalize to [-1, 1]\n",
    "    img = np.expand_dims(img, axis=0)  # Add batch dimension\n",
    "    return img.astype(np.float32)  # Ensure it's a float32 array\n",
    "\n",
    "# Function to apply the CycleGAN model\n",
    "def apply_cyclegan(model, img):\n",
    "    # Get the generator function from the model's signatures\n",
    "    generator = model.signatures['serving_default']\n",
    "    \n",
    "    # Apply the CycleGAN to the image\n",
    "    output_img = generator(tf.convert_to_tensor(img))['activation_14']\n",
    "    \n",
    "    return output_img.numpy()\n",
    "\n",
    "def save_image(output_img, output_path):\n",
    "    # Post-process and save the generated image\n",
    "    output_img = (output_img + 1) * 127.5  # Convert back to [0, 255]\n",
    "    output_img = np.squeeze(output_img, axis=0).astype(np.uint8)\n",
    "    output_image = Image.fromarray(output_img)\n",
    "    output_image.save(output_path)"
   ]
  },
  {
   "cell_type": "code",
   "execution_count": null,
   "id": "aa71effa-60f9-462b-ac40-988ea0751919",
   "metadata": {
    "vscode": {
     "languageId": "shellscript"
    }
   },
   "outputs": [
    {
     "name": "stderr",
     "output_type": "stream",
     "text": [
      "Processing class 0:   1%|          | 29/3539 [00:51<1:45:52,  1.81s/image]"
     ]
    }
   ],
   "source": [
    "input_dir = 'datasets/sabari50312/fundus-pytorch/versions/1/train'\n",
    "output_dir = 'train_degraded_images'\n",
    "os.makedirs(output_dir, exist_ok=True)\n",
    "\n",
    "for class_dir in ['0', '1']:\n",
    "    class_path = os.path.join(input_dir, class_dir)\n",
    "    img_files = os.listdir(class_path)\n",
    "    \n",
    "    # Wrap the loop with tqdm\n",
    "    for img_file in tqdm(img_files, desc=f\"Processing class {class_dir}\", unit=\"image\"):\n",
    "        img_path = os.path.join(class_path, img_file)\n",
    "        \n",
    "        # Preprocess the image\n",
    "        img = preprocess_image(img_path)\n",
    "        \n",
    "        # Apply CycleGAN model to generate the degraded image\n",
    "        output_img = apply_cyclegan(model, img)\n",
    "        \n",
    "        # Save the output image\n",
    "        output_img_path = os.path.join(output_dir, f'{class_dir}_{img_file}')\n",
    "        save_image(output_img, output_img_path)\n",
    "\n",
    "print(\"All images processed and saved successfully!\")\n",
    "\n",
    "input_dir = 'datasets/sabari50312/fundus-pytorch/versions/1/val'\n",
    "output_dir = 'val_degraded_images'\n",
    "os.makedirs(output_dir, exist_ok=True)\n",
    "\n",
    "for class_dir in ['0', '1']:\n",
    "    class_path = os.path.join(input_dir, class_dir)\n",
    "    img_files = os.listdir(class_path)\n",
    "    \n",
    "    # Wrap the loop with tqdm\n",
    "    for img_file in tqdm(img_files, desc=f\"Processing class {class_dir}\", unit=\"image\"):\n",
    "        img_path = os.path.join(class_path, img_file)\n",
    "        \n",
    "        # Preprocess the image\n",
    "        img = preprocess_image(img_path)\n",
    "        \n",
    "        # Apply CycleGAN model to generate the degraded image\n",
    "        output_img = apply_cyclegan(model, img)\n",
    "        \n",
    "        # Save the output image\n",
    "        output_img_path = os.path.join(output_dir, f'{class_dir}_{img_file}')\n",
    "        save_image(output_img, output_img_path)\n",
    "\n",
    "\n",
    "input_dir = 'datasets/sabari50312/fundus-pytorch/versions/1/test'\n",
    "output_dir = 'test_degraded_images'\n",
    "os.makedirs(output_dir, exist_ok=True)\n",
    "\n",
    "for class_dir in ['0', '1']:\n",
    "    class_path = os.path.join(input_dir, class_dir)\n",
    "    img_files = os.listdir(class_path)\n",
    "    \n",
    "    # Wrap the loop with tqdm\n",
    "    for img_file in tqdm(img_files, desc=f\"Processing class {class_dir}\", unit=\"image\"):\n",
    "        img_path = os.path.join(class_path, img_file)\n",
    "        \n",
    "        # Preprocess the image\n",
    "        img = preprocess_image(img_path)\n",
    "        \n",
    "        # Apply CycleGAN model to generate the degraded image\n",
    "        output_img = apply_cyclegan(model, img)\n",
    "        \n",
    "        # Save the output image\n",
    "        output_img_path = os.path.join(output_dir, f'{class_dir}_{img_file}')\n",
    "        save_image(output_img, output_img_path)\n",
    "\n",
    "print(\"All images processed and saved successfully!\")"
   ]
  },
  {
   "cell_type": "code",
   "execution_count": null,
   "id": "872f7c4d-4893-4640-ae3b-db196ce713d7",
   "metadata": {
    "vscode": {
     "languageId": "shellscript"
    }
   },
   "outputs": [],
   "source": [
    "import os\n",
    "import random\n",
    "import numpy as np\n",
    "import matplotlib.pyplot as plt\n",
    "from PIL import Image\n",
    "\n",
    "# Function to display before and after images side by side\n",
    "def display_before_after(before_img, after_img):\n",
    "    # Convert from float [-1, 1] to [0, 255] if needed\n",
    "    if before_img.dtype == np.float64 or before_img.max() <= 1.0:\n",
    "        before_img = (before_img + 1) * 127.5\n",
    "    if after_img.dtype == np.float64 or after_img.max() <= 1.0:\n",
    "        after_img = (after_img + 1) * 127.5\n",
    "\n",
    "    # Squeeze only if needed (e.g., TensorFlow outputs a batch dimension)\n",
    "    if len(before_img.shape) == 4 and before_img.shape[0] == 1:\n",
    "        before_img = np.squeeze(before_img, axis=0)\n",
    "    if len(after_img.shape) == 4 and after_img.shape[0] == 1:\n",
    "        after_img = np.squeeze(after_img, axis=0)\n",
    "\n",
    "    before_img = before_img.astype(np.uint8)\n",
    "    after_img = after_img.astype(np.uint8)\n",
    "\n",
    "    plt.figure(figsize=(14, 7))\n",
    "    plt.subplot(1, 2, 1)\n",
    "    plt.imshow(before_img)\n",
    "    plt.title('Before')\n",
    "    plt.axis('off')\n",
    "\n",
    "    plt.subplot(1, 2, 2)\n",
    "    plt.imshow(after_img)\n",
    "    plt.title('After')\n",
    "    plt.axis('off')\n",
    "\n",
    "    plt.show()\n",
    "\n",
    "# Function to search for a random match in the original and output directories\n",
    "def display_random_match(input_dir, output_dir):\n",
    "    input_images = [f for f in os.listdir(input_dir) if f.endswith('.jpg') or f.endswith('.png')]\n",
    "    output_images = [f for f in os.listdir(output_dir) if f.endswith('.jpg') or f.endswith('.png')]\n",
    "\n",
    "    # Create a mapping from stripped output filenames to their full filenames\n",
    "    output_map = {f[2:]: f for f in output_images if len(f) > 2 and f[1] == '_'}\n",
    "\n",
    "    # Filter to only input images that have a corresponding output\n",
    "    matching_input_images = [img for img in input_images if img in output_map]\n",
    "\n",
    "    if not matching_input_images:\n",
    "        print(\"No matching files found between input and output directories.\")\n",
    "        return\n",
    "\n",
    "    random_input_image = random.choice(matching_input_images)\n",
    "    matched_output_image = output_map[random_input_image]\n",
    "\n",
    "    input_path = os.path.join(input_dir, random_input_image)\n",
    "    output_path = os.path.join(output_dir, matched_output_image)\n",
    "\n",
    "    before_img = np.array(Image.open(input_path))\n",
    "    after_img = np.array(Image.open(output_path))\n",
    "\n",
    "    display_before_after(before_img, after_img)\n",
    "\n",
    "# Paths to the original images and generated output images\n",
    "input_dir = 'datasets/sabari50312/fundus-pytorch/versions/1/train/0'  # Change as needed\n",
    "output_dir = 'output_images'  # Change as needed\n",
    "\n",
    "# Call the function to display a random match\n",
    "display_random_match(input_dir, output_dir)\n"
   ]
  },
  {
   "cell_type": "markdown",
   "id": "c78813f1-8438-4909-949d-2102201fa113",
   "metadata": {},
   "source": [
    "### Fine-tune LED"
   ]
  },
  {
   "cell_type": "code",
   "execution_count": null,
   "id": "44f31aef-9533-46ca-93ca-02cfa2fd99ed",
   "metadata": {
    "vscode": {
     "languageId": "shellscript"
    }
   },
   "outputs": [
    {
     "ename": "KeyError",
     "evalue": "'led'",
     "output_type": "error",
     "traceback": [
      "\u001b[1;31m---------------------------------------------------------------------------\u001b[0m",
      "\u001b[1;31mKeyError\u001b[0m                                  Traceback (most recent call last)",
      "Cell \u001b[1;32mIn[13], line 8\u001b[0m\n\u001b[0;32m      5\u001b[0m sys\u001b[38;5;241m.\u001b[39mpath\u001b[38;5;241m.\u001b[39mappend(\u001b[38;5;124m'\u001b[39m\u001b[38;5;124m./LED-main\u001b[39m\u001b[38;5;124m'\u001b[39m)  \u001b[38;5;66;03m# Use relative path\u001b[39;00m\n\u001b[0;32m      7\u001b[0m \u001b[38;5;66;03m# Now import\u001b[39;00m\n\u001b[1;32m----> 8\u001b[0m \u001b[38;5;28;01mfrom\u001b[39;00m \u001b[38;5;21;01mled\u001b[39;00m\u001b[38;5;21;01m.\u001b[39;00m\u001b[38;5;21;01mpipelines\u001b[39;00m\u001b[38;5;21;01m.\u001b[39;00m\u001b[38;5;21;01mled_pipeline\u001b[39;00m \u001b[38;5;28;01mimport\u001b[39;00m LEDPipeline\n\u001b[0;32m     10\u001b[0m \u001b[38;5;28;01mimport\u001b[39;00m \u001b[38;5;21;01mmatplotlib\u001b[39;00m\u001b[38;5;21;01m.\u001b[39;00m\u001b[38;5;21;01mpyplot\u001b[39;00m \u001b[38;5;28;01mas\u001b[39;00m \u001b[38;5;21;01mplt\u001b[39;00m\n\u001b[0;32m     11\u001b[0m \u001b[38;5;28;01mimport\u001b[39;00m \u001b[38;5;21;01mcv2\u001b[39;00m\n",
      "File \u001b[1;32m<frozen importlib._bootstrap>:1360\u001b[0m, in \u001b[0;36m_find_and_load\u001b[1;34m(name, import_)\u001b[0m\n",
      "File \u001b[1;32m<frozen importlib._bootstrap>:1322\u001b[0m, in \u001b[0;36m_find_and_load_unlocked\u001b[1;34m(name, import_)\u001b[0m\n",
      "File \u001b[1;32m<frozen importlib._bootstrap>:1262\u001b[0m, in \u001b[0;36m_find_spec\u001b[1;34m(name, path, target)\u001b[0m\n",
      "File \u001b[1;32m<frozen importlib._bootstrap_external>:1528\u001b[0m, in \u001b[0;36mfind_spec\u001b[1;34m(cls, fullname, path, target)\u001b[0m\n",
      "File \u001b[1;32m<frozen importlib._bootstrap_external>:1497\u001b[0m, in \u001b[0;36m_get_spec\u001b[1;34m(cls, fullname, path, target)\u001b[0m\n",
      "File \u001b[1;32m<frozen importlib._bootstrap_external>:1368\u001b[0m, in \u001b[0;36m__iter__\u001b[1;34m(self)\u001b[0m\n",
      "File \u001b[1;32m<frozen importlib._bootstrap_external>:1355\u001b[0m, in \u001b[0;36m_recalculate\u001b[1;34m(self)\u001b[0m\n",
      "File \u001b[1;32m<frozen importlib._bootstrap_external>:1351\u001b[0m, in \u001b[0;36m_get_parent_path\u001b[1;34m(self)\u001b[0m\n",
      "\u001b[1;31mKeyError\u001b[0m: 'led'"
     ]
    }
   ],
   "source": [
    "import os\n",
    "import sys\n",
    "\n",
    "# Add LED-main to sys.path\n",
    "sys.path.append('./LED-main')  # Use relative path\n",
    "\n",
    "# Now import\n",
    "from led.pipelines.led_pipeline import LEDPipeline\n",
    "\n",
    "import matplotlib.pyplot as plt\n",
    "import cv2\n",
    "\n",
    "# Set which GPU to use\n",
    "os.environ[\"CUDA_VISIBLE_DEVICES\"] = '0'\n",
    "\n",
    "# Load and show the image\n",
    "low_quality_image_path = 'output_images/0_BEH-172.png'\n",
    "low_quality_image = cv2.imread(low_quality_image_path)[:, :, ::-1]\n",
    "plt.imshow(low_quality_image)\n",
    "plt.title(\"Low-Quality Image\")\n",
    "plt.axis('off')\n",
    "plt.show()"
   ]
  },
  {
   "cell_type": "code",
   "execution_count": null,
   "id": "23aac03a-3295-467e-8fa3-c8c2cc48f320",
   "metadata": {
    "vscode": {
     "languageId": "shellscript"
    }
   },
   "outputs": [],
   "source": []
  }
 ],
 "metadata": {
  "kernelspec": {
   "display_name": "Python 3 (ipykernel)",
   "language": "python",
   "name": "python3"
  },
  "language_info": {
   "codemirror_mode": {
    "name": "ipython",
    "version": 3
   },
   "file_extension": ".py",
   "mimetype": "text/x-python",
   "name": "python",
   "nbconvert_exporter": "python",
   "pygments_lexer": "ipython3",
   "version": "3.12.6"
  }
 },
 "nbformat": 4,
 "nbformat_minor": 5
}
